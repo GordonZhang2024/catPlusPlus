import sys
from PyQt5.QtWidgets import QApplication, QMainWindow, QTextEdit, QVBoxLayout, QPushButton, QWidget
from PyQt5.QtCore import Qt
from markdown2 import markdown

class MarkdownEditor(QMainWindow):
    def __init__(self):
        super().__init__()

        self.initUI()

    def initUI(self):
        self.setWindowTitle("Markdown Editor")
        self.setGeometry(100, 100, 800, 600)

        self.text_edit = QTextEdit()
        self.text_edit.setTabStopWidth(20)

        bold_button = QPushButton("Bold")
        bold_button.clicked.connect(lambda: self.apply_format("**"))

        italic_button = QPushButton("Italic")
        italic_button.clicked.connect(lambda: self.apply_format("*"))

        code_button = QPushButton("Code")
        code_button.clicked.connect(lambda: self.apply_format("```"))

        self.preview = QTextEdit()
        self.preview.setReadOnly(True)

        layout = QVBoxLayout()
        layout.addWidget(self.text_edit)
        layout.addWidget(bold_button)
        layout.addWidget(italic_button)
        layout.addWidget(code_button)
        layout.addWidget(self.preview)

        central_widget = QWidget()
        central_widget.setLayout(layout)
        self.setCentralWidget(central_widget)

    def apply_format(self, format_str):
        cursor = self.text_edit.textCursor()
        selected_text = cursor.selectedText()
        new_text = self.text_edit.toPlainText().replace(selected_text, f"{format_str}{selected_text}{format_str}") if selected_text else self.text_edit.toPlainText()
        self.text_edit.setPlainText(new_text)

        self.preview.setPlainText(markdown(new_text))

if __name__ == '__main__':
    app = QApplication(sys.argv)
    editor = MarkdownEditor()
    editor.show()
    sys.exit(app.exec_())

